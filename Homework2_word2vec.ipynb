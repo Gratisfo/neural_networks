{
  "nbformat": 4,
  "nbformat_minor": 0,
  "metadata": {
    "kernelspec": {
      "display_name": "Python 3",
      "language": "python",
      "name": "python3"
    },
    "language_info": {
      "codemirror_mode": {
        "name": "ipython",
        "version": 3
      },
      "file_extension": ".py",
      "mimetype": "text/x-python",
      "name": "python",
      "nbconvert_exporter": "python",
      "pygments_lexer": "ipython3",
      "version": "3.6.8"
    },
    "colab": {
      "name": "Homework2_word2vec.ipynb",
      "provenance": [],
      "include_colab_link": true
    }
  },
  "cells": [
    {
      "cell_type": "markdown",
      "metadata": {
        "id": "view-in-github",
        "colab_type": "text"
      },
      "source": [
        "<a href=\"https://colab.research.google.com/github/Gratisfo/neural_networks/blob/main/Homework2_word2vec.ipynb\" target=\"_parent\"><img src=\"https://colab.research.google.com/assets/colab-badge.svg\" alt=\"Open In Colab\"/></a>"
      ]
    },
    {
      "cell_type": "code",
      "metadata": {
        "id": "wRlDqs_FW0-h"
      },
      "source": [
        "import json\n",
        "import random\n",
        "from tqdm import tqdm\n",
        "import numpy as np\n",
        "\n",
        "from matplotlib import pyplot as plt\n",
        "from sklearn.decomposition import TruncatedSVD\n",
        "from sklearn.manifold import TSNE\n",
        "\n",
        "import torch\n"
      ],
      "execution_count": 1,
      "outputs": []
    },
    {
      "cell_type": "code",
      "metadata": {
        "id": "LS73WEYfZh11"
      },
      "source": [
        "from pylab import rcParams\n",
        "rcParams['figure.figsize'] = 15, 15"
      ],
      "execution_count": 79,
      "outputs": []
    },
    {
      "cell_type": "markdown",
      "metadata": {
        "id": "J38L0xQDW0-o"
      },
      "source": [
        "# Что делать?\n",
        "Где есть пометка # CODE писать код\n",
        "\n",
        "[Полезный туториал](http://jalammar.github.io/illustrated-word2vec/)"
      ]
    },
    {
      "cell_type": "markdown",
      "metadata": {
        "id": "GJxw8nSIW0-p"
      },
      "source": [
        "# Загружаем данные\n",
        "Они уже обработанные и токенизированные. Процесс можно посмотреть в тетрадке 1.1 Processing corpus"
      ]
    },
    {
      "cell_type": "code",
      "metadata": {
        "id": "645NGp_zW-vK",
        "outputId": "54514b0b-7736-4695-cc5f-55cae9998775",
        "colab": {
          "base_uri": "https://localhost:8080/"
        }
      },
      "source": [
        "!unzip processed_corpus.json.zip"
      ],
      "execution_count": 5,
      "outputs": [
        {
          "output_type": "stream",
          "text": [
            "Archive:  processed_corpus.json.zip\n",
            "  inflating: processed_corpus.json   \n"
          ],
          "name": "stdout"
        }
      ]
    },
    {
      "cell_type": "code",
      "metadata": {
        "id": "cQB9xoCFW0-p"
      },
      "source": [
        "with open('processed_corpus.json') as f:\n",
        "    corpus = json.load(f)"
      ],
      "execution_count": 6,
      "outputs": []
    },
    {
      "cell_type": "code",
      "metadata": {
        "id": "ijjaEdhLW0-s",
        "outputId": "d6beeb58-4843-4e58-efcc-4c3d7ee8cb87",
        "colab": {
          "base_uri": "https://localhost:8080/"
        }
      },
      "source": [
        "len(corpus)"
      ],
      "execution_count": 7,
      "outputs": [
        {
          "output_type": "execute_result",
          "data": {
            "text/plain": [
              "100000"
            ]
          },
          "metadata": {
            "tags": []
          },
          "execution_count": 7
        }
      ]
    },
    {
      "cell_type": "code",
      "metadata": {
        "id": "1Wrv24dgW0-w",
        "outputId": "6ad7b7cf-bcfc-4a0a-bfdb-1185c53a3281",
        "colab": {
          "base_uri": "https://localhost:8080/"
        }
      },
      "source": [
        "for text in corpus[:5]:\n",
        "    print(' '.join(text))"
      ],
      "execution_count": 8,
      "outputs": [
        {
          "output_type": "stream",
          "text": [
            "второй UNK год окончательно разочаровать решить податься альфабанк\n",
            "вернуть денежный средство лицевой счёт либо зачесть счёт погашение кредит\n",
            "притом ситуация решиться участие течение сутки заявить\n",
            "мой ##число летний жизнь это самый неповоротливый работник банк который видеть\n",
            "везде написать вклад принимать очередь это\n"
          ],
          "name": "stdout"
        }
      ]
    },
    {
      "cell_type": "markdown",
      "metadata": {
        "id": "DN0SDDiSW0-y"
      },
      "source": [
        "# CBOW"
      ]
    },
    {
      "cell_type": "code",
      "metadata": {
        "id": "_ssxokNOW0-z"
      },
      "source": [
        "sample_text = corpus[0]"
      ],
      "execution_count": 9,
      "outputs": []
    },
    {
      "cell_type": "code",
      "metadata": {
        "id": "cHgz_GGnW0-1",
        "outputId": "1aa1f72a-bb2f-418c-f9a7-cf9fa9f195ba",
        "colab": {
          "base_uri": "https://localhost:8080/",
          "height": 35
        }
      },
      "source": [
        "' '.join(sample_text)"
      ],
      "execution_count": 10,
      "outputs": [
        {
          "output_type": "execute_result",
          "data": {
            "application/vnd.google.colaboratory.intrinsic+json": {
              "type": "string"
            },
            "text/plain": [
              "'второй UNK год окончательно разочаровать решить податься альфабанк'"
            ]
          },
          "metadata": {
            "tags": []
          },
          "execution_count": 10
        }
      ]
    },
    {
      "cell_type": "markdown",
      "metadata": {
        "id": "Snu6ddFGW0-3"
      },
      "source": [
        "# Реализуйте разделение предложения на примеры методом CBOW"
      ]
    },
    {
      "cell_type": "code",
      "metadata": {
        "id": "ZS4_CMUqW0-4"
      },
      "source": [
        "def cbow_split(tokens, window, pad_token='PAD'):\n",
        "    text = [t for t in tokens]\n",
        "    splits = []\n",
        "    len_ = len(text)\n",
        "    for w in range(window):\n",
        "      text.append(pad_token)\n",
        "    for idx in range(len_):\n",
        "      left = idx - window\n",
        "      l = [text[i] for i in range(left, idx)]\n",
        "      right = idx + window\n",
        "      r = [text[i+1] for i in range(idx, right) if i <= len(text)]\n",
        "\n",
        "      context = (l, text[idx], r)\n",
        "      splits.append(context)    \n",
        "    return splits"
      ],
      "execution_count": 11,
      "outputs": []
    },
    {
      "cell_type": "code",
      "metadata": {
        "id": "qPAGyaMPCwGz"
      },
      "source": [
        "splits = cbow_split(sample_text, window=2)"
      ],
      "execution_count": 12,
      "outputs": []
    },
    {
      "cell_type": "code",
      "metadata": {
        "id": "xznOivyyW0_A",
        "outputId": "4336fcfe-4e25-4ecd-f5f8-feff62da633a",
        "colab": {
          "base_uri": "https://localhost:8080/"
        }
      },
      "source": [
        "for sample in splits:\n",
        "    print('Левый контекст:', sample[0])\n",
        "    print('Центральное слово:', sample[1])\n",
        "    print('Правый контекст:', sample[2], end='\\n\\n')"
      ],
      "execution_count": 13,
      "outputs": [
        {
          "output_type": "stream",
          "text": [
            "Левый контекст: ['PAD', 'PAD']\n",
            "Центральное слово: второй\n",
            "Правый контекст: ['UNK', 'год']\n",
            "\n",
            "Левый контекст: ['PAD', 'второй']\n",
            "Центральное слово: UNK\n",
            "Правый контекст: ['год', 'окончательно']\n",
            "\n",
            "Левый контекст: ['второй', 'UNK']\n",
            "Центральное слово: год\n",
            "Правый контекст: ['окончательно', 'разочаровать']\n",
            "\n",
            "Левый контекст: ['UNK', 'год']\n",
            "Центральное слово: окончательно\n",
            "Правый контекст: ['разочаровать', 'решить']\n",
            "\n",
            "Левый контекст: ['год', 'окончательно']\n",
            "Центральное слово: разочаровать\n",
            "Правый контекст: ['решить', 'податься']\n",
            "\n",
            "Левый контекст: ['окончательно', 'разочаровать']\n",
            "Центральное слово: решить\n",
            "Правый контекст: ['податься', 'альфабанк']\n",
            "\n",
            "Левый контекст: ['разочаровать', 'решить']\n",
            "Центральное слово: податься\n",
            "Правый контекст: ['альфабанк', 'PAD']\n",
            "\n",
            "Левый контекст: ['решить', 'податься']\n",
            "Центральное слово: альфабанк\n",
            "Правый контекст: ['PAD', 'PAD']\n",
            "\n"
          ],
          "name": "stdout"
        }
      ]
    },
    {
      "cell_type": "code",
      "metadata": {
        "id": "Ye2gKDFDW0_C",
        "outputId": "49abde92-1bf9-4d00-8e70-270b70373f02",
        "colab": {
          "base_uri": "https://localhost:8080/"
        }
      },
      "source": [
        "splits"
      ],
      "execution_count": 14,
      "outputs": [
        {
          "output_type": "execute_result",
          "data": {
            "text/plain": [
              "[(['PAD', 'PAD'], 'второй', ['UNK', 'год']),\n",
              " (['PAD', 'второй'], 'UNK', ['год', 'окончательно']),\n",
              " (['второй', 'UNK'], 'год', ['окончательно', 'разочаровать']),\n",
              " (['UNK', 'год'], 'окончательно', ['разочаровать', 'решить']),\n",
              " (['год', 'окончательно'], 'разочаровать', ['решить', 'податься']),\n",
              " (['окончательно', 'разочаровать'], 'решить', ['податься', 'альфабанк']),\n",
              " (['разочаровать', 'решить'], 'податься', ['альфабанк', 'PAD']),\n",
              " (['решить', 'податься'], 'альфабанк', ['PAD', 'PAD'])]"
            ]
          },
          "metadata": {
            "tags": []
          },
          "execution_count": 14
        }
      ]
    },
    {
      "cell_type": "markdown",
      "metadata": {
        "id": "1P7GQXKOW0_E"
      },
      "source": [
        "# Expected\n",
        "\n",
        "```python\n",
        "[(['PAD', 'PAD'], 'вопрос', ['почему', 'например']),\n",
        " (['PAD', 'вопрос'], 'почему', ['например', 'китайский']),\n",
        " (['вопрос', 'почему'], 'например', ['китайский', 'японский']),\n",
        " (['почему', 'например'], 'китайский', ['японский', 'UNK']),\n",
        " (['например', 'китайский'], 'японский', ['UNK', 'PAD']),\n",
        " (['китайский', 'японский'], 'UNK', ['PAD', 'PAD'])]\n",
        "```"
      ]
    },
    {
      "cell_type": "code",
      "metadata": {
        "id": "uvEN-358W0_F",
        "outputId": "6271f6f5-62e9-4f15-da57-a27f398c81d5",
        "colab": {
          "base_uri": "https://localhost:8080/"
        }
      },
      "source": [
        "cbow_split(sample_text, window=3)"
      ],
      "execution_count": 15,
      "outputs": [
        {
          "output_type": "execute_result",
          "data": {
            "text/plain": [
              "[(['PAD', 'PAD', 'PAD'], 'второй', ['UNK', 'год', 'окончательно']),\n",
              " (['PAD', 'PAD', 'второй'], 'UNK', ['год', 'окончательно', 'разочаровать']),\n",
              " (['PAD', 'второй', 'UNK'], 'год', ['окончательно', 'разочаровать', 'решить']),\n",
              " (['второй', 'UNK', 'год'],\n",
              "  'окончательно',\n",
              "  ['разочаровать', 'решить', 'податься']),\n",
              " (['UNK', 'год', 'окончательно'],\n",
              "  'разочаровать',\n",
              "  ['решить', 'податься', 'альфабанк']),\n",
              " (['год', 'окончательно', 'разочаровать'],\n",
              "  'решить',\n",
              "  ['податься', 'альфабанк', 'PAD']),\n",
              " (['окончательно', 'разочаровать', 'решить'],\n",
              "  'податься',\n",
              "  ['альфабанк', 'PAD', 'PAD']),\n",
              " (['разочаровать', 'решить', 'податься'], 'альфабанк', ['PAD', 'PAD', 'PAD'])]"
            ]
          },
          "metadata": {
            "tags": []
          },
          "execution_count": 15
        }
      ]
    },
    {
      "cell_type": "markdown",
      "metadata": {
        "id": "GtfPJSTsW0_H"
      },
      "source": [
        "# Expected\n",
        "\n",
        "```python\n",
        "[(['PAD', 'PAD', 'PAD'], 'вопрос', ['почему', 'например', 'китайский']),\n",
        " (['PAD', 'PAD', 'вопрос'], 'почему', ['например', 'китайский', 'японский']),\n",
        " (['PAD', 'вопрос', 'почему'], 'например', ['китайский', 'японский', 'UNK']),\n",
        " (['вопрос', 'почему', 'например'], 'китайский', ['японский', 'UNK', 'PAD']),\n",
        " (['почему', 'например', 'китайский'], 'японский', ['UNK', 'PAD', 'PAD']),\n",
        " (['например', 'китайский', 'японский'], 'UNK', ['PAD', 'PAD', 'PAD'])]\n",
        "```"
      ]
    },
    {
      "cell_type": "markdown",
      "metadata": {
        "id": "HNWjqwhCW0_H"
      },
      "source": [
        "# Skipgram"
      ]
    },
    {
      "cell_type": "code",
      "metadata": {
        "id": "yiyAT2vNW0_I",
        "outputId": "b07dd6a9-336a-48ea-8c01-e9cea19aacfd",
        "colab": {
          "base_uri": "https://localhost:8080/",
          "height": 35
        }
      },
      "source": [
        "' '.join(corpus[0])"
      ],
      "execution_count": 16,
      "outputs": [
        {
          "output_type": "execute_result",
          "data": {
            "application/vnd.google.colaboratory.intrinsic+json": {
              "type": "string"
            },
            "text/plain": [
              "'второй UNK год окончательно разочаровать решить податься альфабанк'"
            ]
          },
          "metadata": {
            "tags": []
          },
          "execution_count": 16
        }
      ]
    },
    {
      "cell_type": "markdown",
      "metadata": {
        "id": "ep3wjr5sW0_K"
      },
      "source": [
        "# Реализуйте разделение предложения на примеры методом Skipgram"
      ]
    },
    {
      "cell_type": "code",
      "metadata": {
        "id": "2XX_8Lh9W0_L"
      },
      "source": [
        "def skipgram_split(tokens, window):\n",
        "    \n",
        "    splits = []\n",
        "  \n",
        "    for idx, token in enumerate(tokens):\n",
        "        begin = idx - window  \n",
        "        end = idx + 1 + window  \n",
        "\n",
        "        if end >= len(tokens):\n",
        "            end = len(tokens)\n",
        "        if begin <= 0:\n",
        "            begin = 0\n",
        "      \n",
        "        context = tokens[begin:end]\n",
        "\n",
        "        for word in context:\n",
        "            if word != token:\n",
        "              skip = (word, token)\n",
        "              splits.append(skip)\n",
        "    \n",
        "    return splits"
      ],
      "execution_count": 17,
      "outputs": []
    },
    {
      "cell_type": "code",
      "metadata": {
        "id": "TlCQKhwXW0_N"
      },
      "source": [
        "splits = skipgram_split(sample_text, window=2)"
      ],
      "execution_count": 18,
      "outputs": []
    },
    {
      "cell_type": "code",
      "metadata": {
        "id": "pdjlMQVMW0_R",
        "outputId": "fdbc70ae-e654-4381-93df-f21c556473be",
        "colab": {
          "base_uri": "https://localhost:8080/"
        }
      },
      "source": [
        "for sample in splits:\n",
        "    print('Контекст:', sample[0])\n",
        "    print('Центральное слово:', sample[1], end='\\n\\n')"
      ],
      "execution_count": 19,
      "outputs": [
        {
          "output_type": "stream",
          "text": [
            "Контекст: UNK\n",
            "Центральное слово: второй\n",
            "\n",
            "Контекст: год\n",
            "Центральное слово: второй\n",
            "\n",
            "Контекст: второй\n",
            "Центральное слово: UNK\n",
            "\n",
            "Контекст: год\n",
            "Центральное слово: UNK\n",
            "\n",
            "Контекст: окончательно\n",
            "Центральное слово: UNK\n",
            "\n",
            "Контекст: второй\n",
            "Центральное слово: год\n",
            "\n",
            "Контекст: UNK\n",
            "Центральное слово: год\n",
            "\n",
            "Контекст: окончательно\n",
            "Центральное слово: год\n",
            "\n",
            "Контекст: разочаровать\n",
            "Центральное слово: год\n",
            "\n",
            "Контекст: UNK\n",
            "Центральное слово: окончательно\n",
            "\n",
            "Контекст: год\n",
            "Центральное слово: окончательно\n",
            "\n",
            "Контекст: разочаровать\n",
            "Центральное слово: окончательно\n",
            "\n",
            "Контекст: решить\n",
            "Центральное слово: окончательно\n",
            "\n",
            "Контекст: год\n",
            "Центральное слово: разочаровать\n",
            "\n",
            "Контекст: окончательно\n",
            "Центральное слово: разочаровать\n",
            "\n",
            "Контекст: решить\n",
            "Центральное слово: разочаровать\n",
            "\n",
            "Контекст: податься\n",
            "Центральное слово: разочаровать\n",
            "\n",
            "Контекст: окончательно\n",
            "Центральное слово: решить\n",
            "\n",
            "Контекст: разочаровать\n",
            "Центральное слово: решить\n",
            "\n",
            "Контекст: податься\n",
            "Центральное слово: решить\n",
            "\n",
            "Контекст: альфабанк\n",
            "Центральное слово: решить\n",
            "\n",
            "Контекст: разочаровать\n",
            "Центральное слово: податься\n",
            "\n",
            "Контекст: решить\n",
            "Центральное слово: податься\n",
            "\n",
            "Контекст: альфабанк\n",
            "Центральное слово: податься\n",
            "\n",
            "Контекст: решить\n",
            "Центральное слово: альфабанк\n",
            "\n",
            "Контекст: податься\n",
            "Центральное слово: альфабанк\n",
            "\n"
          ],
          "name": "stdout"
        }
      ]
    },
    {
      "cell_type": "code",
      "metadata": {
        "id": "uw4cRieAW0_U",
        "outputId": "686b93b5-2998-45c4-8b15-679b26d1a264",
        "colab": {
          "base_uri": "https://localhost:8080/"
        }
      },
      "source": [
        "skipgram_split(sample_text, window=2)"
      ],
      "execution_count": 20,
      "outputs": [
        {
          "output_type": "execute_result",
          "data": {
            "text/plain": [
              "[('UNK', 'второй'),\n",
              " ('год', 'второй'),\n",
              " ('второй', 'UNK'),\n",
              " ('год', 'UNK'),\n",
              " ('окончательно', 'UNK'),\n",
              " ('второй', 'год'),\n",
              " ('UNK', 'год'),\n",
              " ('окончательно', 'год'),\n",
              " ('разочаровать', 'год'),\n",
              " ('UNK', 'окончательно'),\n",
              " ('год', 'окончательно'),\n",
              " ('разочаровать', 'окончательно'),\n",
              " ('решить', 'окончательно'),\n",
              " ('год', 'разочаровать'),\n",
              " ('окончательно', 'разочаровать'),\n",
              " ('решить', 'разочаровать'),\n",
              " ('податься', 'разочаровать'),\n",
              " ('окончательно', 'решить'),\n",
              " ('разочаровать', 'решить'),\n",
              " ('податься', 'решить'),\n",
              " ('альфабанк', 'решить'),\n",
              " ('разочаровать', 'податься'),\n",
              " ('решить', 'податься'),\n",
              " ('альфабанк', 'податься'),\n",
              " ('решить', 'альфабанк'),\n",
              " ('податься', 'альфабанк')]"
            ]
          },
          "metadata": {
            "tags": []
          },
          "execution_count": 20
        }
      ]
    },
    {
      "cell_type": "markdown",
      "metadata": {
        "id": "0RQbySLeW0_W"
      },
      "source": [
        "# Expected\n",
        "\n",
        "```python\n",
        "[('почему', 'вопрос'),\n",
        " ('например', 'вопрос'),\n",
        " ('вопрос', 'почему'),\n",
        " ('например', 'почему'),\n",
        " ('китайский', 'почему'),\n",
        " ('вопрос', 'например'),\n",
        " ('почему', 'например'),\n",
        " ('китайский', 'например'),\n",
        " ('японский', 'например'),\n",
        " ('почему', 'китайский'),\n",
        " ('например', 'китайский'),\n",
        " ('японский', 'китайский'),\n",
        " ('UNK', 'китайский'),\n",
        " ('например', 'японский'),\n",
        " ('китайский', 'японский'),\n",
        " ('UNK', 'японский'),\n",
        " ('китайский', 'UNK'),\n",
        " ('японский', 'UNK')]\n",
        "```"
      ]
    },
    {
      "cell_type": "code",
      "metadata": {
        "id": "hb--eURvW0_W",
        "outputId": "95d22cd5-868c-4091-cc58-9d46f8adedb1",
        "colab": {
          "base_uri": "https://localhost:8080/"
        }
      },
      "source": [
        "skipgram_split(sample_text, window=3)"
      ],
      "execution_count": 21,
      "outputs": [
        {
          "output_type": "execute_result",
          "data": {
            "text/plain": [
              "[('UNK', 'второй'),\n",
              " ('год', 'второй'),\n",
              " ('окончательно', 'второй'),\n",
              " ('второй', 'UNK'),\n",
              " ('год', 'UNK'),\n",
              " ('окончательно', 'UNK'),\n",
              " ('разочаровать', 'UNK'),\n",
              " ('второй', 'год'),\n",
              " ('UNK', 'год'),\n",
              " ('окончательно', 'год'),\n",
              " ('разочаровать', 'год'),\n",
              " ('решить', 'год'),\n",
              " ('второй', 'окончательно'),\n",
              " ('UNK', 'окончательно'),\n",
              " ('год', 'окончательно'),\n",
              " ('разочаровать', 'окончательно'),\n",
              " ('решить', 'окончательно'),\n",
              " ('податься', 'окончательно'),\n",
              " ('UNK', 'разочаровать'),\n",
              " ('год', 'разочаровать'),\n",
              " ('окончательно', 'разочаровать'),\n",
              " ('решить', 'разочаровать'),\n",
              " ('податься', 'разочаровать'),\n",
              " ('альфабанк', 'разочаровать'),\n",
              " ('год', 'решить'),\n",
              " ('окончательно', 'решить'),\n",
              " ('разочаровать', 'решить'),\n",
              " ('податься', 'решить'),\n",
              " ('альфабанк', 'решить'),\n",
              " ('окончательно', 'податься'),\n",
              " ('разочаровать', 'податься'),\n",
              " ('решить', 'податься'),\n",
              " ('альфабанк', 'податься'),\n",
              " ('разочаровать', 'альфабанк'),\n",
              " ('решить', 'альфабанк'),\n",
              " ('податься', 'альфабанк')]"
            ]
          },
          "metadata": {
            "tags": []
          },
          "execution_count": 21
        }
      ]
    },
    {
      "cell_type": "markdown",
      "metadata": {
        "id": "wSCbHJhfW0_Z"
      },
      "source": [
        "# Expected\n",
        "\n",
        "```python\n",
        "[('почему', 'вопрос'),\n",
        " ('например', 'вопрос'),\n",
        " ('китайский', 'вопрос'),\n",
        " ('вопрос', 'почему'),\n",
        " ('например', 'почему'),\n",
        " ('китайский', 'почему'),\n",
        " ('японский', 'почему'),\n",
        " ('вопрос', 'например'),\n",
        " ('почему', 'например'),\n",
        " ('китайский', 'например'),\n",
        " ('японский', 'например'),\n",
        " ('UNK', 'например'),\n",
        " ('вопрос', 'китайский'),\n",
        " ('почему', 'китайский'),\n",
        " ('например', 'китайский'),\n",
        " ('японский', 'китайский'),\n",
        " ('UNK', 'китайский'),\n",
        " ('почему', 'японский'),\n",
        " ('например', 'японский'),\n",
        " ('китайский', 'японский'),\n",
        " ('UNK', 'японский'),\n",
        " ('например', 'UNK'),\n",
        " ('китайский', 'UNK'),\n",
        " ('японский', 'UNK')]\n",
        "```"
      ]
    },
    {
      "cell_type": "code",
      "metadata": {
        "id": "iQ8fFfIFW0_Z"
      },
      "source": [
        "word2index = {}\n",
        "\n",
        "for text in corpus:\n",
        "    for token in text:\n",
        "        if token not in word2index:\n",
        "            word2index[token] = len(word2index)"
      ],
      "execution_count": 22,
      "outputs": []
    },
    {
      "cell_type": "code",
      "metadata": {
        "id": "sEdMeW_ZW0_d",
        "outputId": "a34a27cb-c785-402e-f73b-9f0041d106ef",
        "colab": {
          "base_uri": "https://localhost:8080/"
        }
      },
      "source": [
        "len(word2index)"
      ],
      "execution_count": 23,
      "outputs": [
        {
          "output_type": "execute_result",
          "data": {
            "text/plain": [
              "13076"
            ]
          },
          "metadata": {
            "tags": []
          },
          "execution_count": 23
        }
      ]
    },
    {
      "cell_type": "code",
      "metadata": {
        "id": "eZekjXlLW0_f",
        "outputId": "f2d97b9a-d053-41dd-8c1d-f718723b2949",
        "colab": {
          "base_uri": "https://localhost:8080/"
        }
      },
      "source": [
        "word2index['UNK']"
      ],
      "execution_count": 24,
      "outputs": [
        {
          "output_type": "execute_result",
          "data": {
            "text/plain": [
              "1"
            ]
          },
          "metadata": {
            "tags": []
          },
          "execution_count": 24
        }
      ]
    },
    {
      "cell_type": "code",
      "metadata": {
        "id": "2RrH2cvUW0_h",
        "outputId": "7ec61d21-86f5-418f-c13c-b00dfe34fc4d",
        "colab": {
          "base_uri": "https://localhost:8080/"
        }
      },
      "source": [
        "[word2index[tok] if tok in word2index else word2index['UNK'] for tok in 'мама мыть рама'.split()]"
      ],
      "execution_count": 25,
      "outputs": [
        {
          "output_type": "execute_result",
          "data": {
            "text/plain": [
              "[1282, 8436, 1]"
            ]
          },
          "metadata": {
            "tags": []
          },
          "execution_count": 25
        }
      ]
    },
    {
      "cell_type": "markdown",
      "metadata": {
        "id": "zJrRHACXW0_j"
      },
      "source": [
        "# Torch Dataset\n",
        "В торче есть очень удобная читалка данных"
      ]
    },
    {
      "cell_type": "code",
      "metadata": {
        "id": "JCf4mHL9W0_j"
      },
      "source": [
        "from torch.utils.data import Dataset, DataLoader"
      ],
      "execution_count": 26,
      "outputs": []
    },
    {
      "cell_type": "code",
      "metadata": {
        "id": "H8vtM_8xW0_l"
      },
      "source": [
        "# игрушечный датасет\n",
        "# 121535 примера, 4 фичи, 3 класса\n",
        "some_data_x = np.random.rand(121535, 4)\n",
        "some_data_y = np.random.randint(3, size=(121535,))"
      ],
      "execution_count": 27,
      "outputs": []
    },
    {
      "cell_type": "code",
      "metadata": {
        "id": "bPSXBwiDW0_o",
        "outputId": "11b60704-cbb3-4834-b8f5-7f633b0747fa",
        "colab": {
          "base_uri": "https://localhost:8080/"
        }
      },
      "source": [
        "# соверешенно игрушечный, просто цифры\n",
        "some_data_x[:10]"
      ],
      "execution_count": 28,
      "outputs": [
        {
          "output_type": "execute_result",
          "data": {
            "text/plain": [
              "array([[0.23870818, 0.16630244, 0.18084456, 0.15882136],\n",
              "       [0.43308494, 0.96808413, 0.96252206, 0.16535756],\n",
              "       [0.26481361, 0.36079195, 0.3924568 , 0.6995786 ],\n",
              "       [0.95055044, 0.50532174, 0.88789565, 0.88599741],\n",
              "       [0.58742307, 0.29943481, 0.57057649, 0.68707926],\n",
              "       [0.86396893, 0.06098712, 0.34402176, 0.71252412],\n",
              "       [0.15152571, 0.14381136, 0.22856469, 0.57431986],\n",
              "       [0.94221429, 0.43385617, 0.51967896, 0.67912356],\n",
              "       [0.30323843, 0.80097949, 0.23664297, 0.16126688],\n",
              "       [0.60688264, 0.38198591, 0.81708209, 0.00960172]])"
            ]
          },
          "metadata": {
            "tags": []
          },
          "execution_count": 28
        }
      ]
    },
    {
      "cell_type": "code",
      "metadata": {
        "id": "cDoBUlzcW0_q",
        "outputId": "eaf2b185-ec2f-45fe-d892-f16bb9087573",
        "colab": {
          "base_uri": "https://localhost:8080/"
        }
      },
      "source": [
        "some_data_y"
      ],
      "execution_count": 29,
      "outputs": [
        {
          "output_type": "execute_result",
          "data": {
            "text/plain": [
              "array([0, 2, 0, ..., 2, 2, 0])"
            ]
          },
          "metadata": {
            "tags": []
          },
          "execution_count": 29
        }
      ]
    },
    {
      "cell_type": "code",
      "metadata": {
        "id": "NZuOhavpW0_t"
      },
      "source": [
        "class ToyDataset(Dataset):\n",
        "    \n",
        "    def __init__(self, data_x, data_y):\n",
        "        \n",
        "        super().__init__()\n",
        "        \n",
        "        self.data_x = data_x\n",
        "        self.data_y = data_y\n",
        "        \n",
        "    def __len__(self):\n",
        "        \n",
        "        # Нужно обязательно определить эту функцию\n",
        "        # Должна возвращать размер датасета\n",
        "        \n",
        "        return len(self.data_x)\n",
        "    \n",
        "    def __getitem__(self, idx):\n",
        "        \n",
        "        # Еще нужно определить этот метод\n",
        "        # То есть как мы будем доставать наши данные по индексу\n",
        "        \n",
        "        return self.data_x[idx], self.data_y[idx]"
      ],
      "execution_count": 30,
      "outputs": []
    },
    {
      "cell_type": "code",
      "metadata": {
        "id": "Cqix1bb4W0_v"
      },
      "source": [
        "some_dataset = ToyDataset(some_data_x, some_data_y)"
      ],
      "execution_count": 31,
      "outputs": []
    },
    {
      "cell_type": "code",
      "metadata": {
        "id": "U8qMJCTQW0_x",
        "outputId": "9b5c19e5-7918-4c54-f562-4a30346c78e8",
        "colab": {
          "base_uri": "https://localhost:8080/"
        }
      },
      "source": [
        "some_dataset[5], some_dataset[467]"
      ],
      "execution_count": 32,
      "outputs": [
        {
          "output_type": "execute_result",
          "data": {
            "text/plain": [
              "((array([0.86396893, 0.06098712, 0.34402176, 0.71252412]), 2),\n",
              " (array([0.57794402, 0.33230999, 0.58757478, 0.01404904]), 1))"
            ]
          },
          "metadata": {
            "tags": []
          },
          "execution_count": 32
        }
      ]
    },
    {
      "cell_type": "code",
      "metadata": {
        "id": "NZ2C8gAbW0_z"
      },
      "source": [
        "some_loader = DataLoader(some_dataset, batch_size=16, shuffle=True)"
      ],
      "execution_count": 33,
      "outputs": []
    },
    {
      "cell_type": "code",
      "metadata": {
        "id": "jAVm8buKW0_1",
        "outputId": "06b240c0-ea3f-41d4-a95c-b576c504c727",
        "colab": {
          "base_uri": "https://localhost:8080/"
        }
      },
      "source": [
        "for x, y in some_loader:\n",
        "    break\n",
        "    \n",
        "len(x), x"
      ],
      "execution_count": 34,
      "outputs": [
        {
          "output_type": "execute_result",
          "data": {
            "text/plain": [
              "(16, tensor([[0.7805, 0.1009, 0.7498, 0.9141],\n",
              "         [0.8161, 0.7861, 0.1184, 0.1713],\n",
              "         [0.8499, 0.9836, 0.9723, 0.8446],\n",
              "         [0.1215, 0.6498, 0.4707, 0.2396],\n",
              "         [0.3118, 0.3464, 0.3588, 0.5617],\n",
              "         [0.6914, 0.3522, 0.8587, 0.7226],\n",
              "         [0.0208, 0.8140, 0.5333, 0.1846],\n",
              "         [0.3487, 0.1813, 0.7222, 0.1723],\n",
              "         [0.1229, 0.9985, 0.9217, 0.4501],\n",
              "         [0.1760, 0.7997, 0.2095, 0.6905],\n",
              "         [0.1676, 0.4248, 0.2631, 0.5032],\n",
              "         [0.4957, 0.3410, 0.7924, 0.2964],\n",
              "         [0.7036, 0.4825, 0.2934, 0.6384],\n",
              "         [0.4221, 0.3239, 0.0595, 0.9504],\n",
              "         [0.7570, 0.3732, 0.0542, 0.9536],\n",
              "         [0.7451, 0.7977, 0.6921, 0.5168]], dtype=torch.float64))"
            ]
          },
          "metadata": {
            "tags": []
          },
          "execution_count": 34
        }
      ]
    },
    {
      "cell_type": "code",
      "metadata": {
        "id": "9kFp2T74W0_3",
        "outputId": "7ab0dda4-27e3-47f5-941e-78107919531d",
        "colab": {
          "base_uri": "https://localhost:8080/"
        }
      },
      "source": [
        "for x, y in some_loader:\n",
        "    pass\n",
        "\n",
        "len(x)"
      ],
      "execution_count": 35,
      "outputs": [
        {
          "output_type": "execute_result",
          "data": {
            "text/plain": [
              "15"
            ]
          },
          "metadata": {
            "tags": []
          },
          "execution_count": 35
        }
      ]
    },
    {
      "cell_type": "code",
      "metadata": {
        "id": "AnML1-b6W0_5",
        "outputId": "08e7cc47-7634-4928-cc4f-481202e60867",
        "colab": {
          "base_uri": "https://localhost:8080/"
        }
      },
      "source": [
        "# почему 13?\n",
        "# потому что количество наших данных нацело не делится на 16\n",
        "# и поэтому последний батч меньше 16-ти\n",
        "len(some_dataset) % 16"
      ],
      "execution_count": 36,
      "outputs": [
        {
          "output_type": "execute_result",
          "data": {
            "text/plain": [
              "15"
            ]
          },
          "metadata": {
            "tags": []
          },
          "execution_count": 36
        }
      ]
    },
    {
      "cell_type": "markdown",
      "metadata": {
        "id": "TxJOsmZKW0_8"
      },
      "source": [
        "# А зачем?"
      ]
    },
    {
      "cell_type": "code",
      "metadata": {
        "id": "OxyO0-JMW0_8"
      },
      "source": [
        "class ToyDataset(Dataset):\n",
        "    \n",
        "    def __init__(self, data_x, data_y):\n",
        "        \n",
        "        super().__init__()\n",
        "        \n",
        "        self.data_x = data_x\n",
        "        self.data_y = data_y\n",
        "        \n",
        "    def __len__(self):\n",
        "        \n",
        "        # Нужно обязательно определить эту функцию\n",
        "        # Должна возвращать размер датасета\n",
        "        \n",
        "        return len(self.data_x)\n",
        "    \n",
        "    @staticmethod\n",
        "    def add_pow_features(x, n=2):\n",
        "        \n",
        "        return np.concatenate([x, x ** n]) \n",
        "    \n",
        "    @staticmethod\n",
        "    def add_log_features(x):\n",
        "        \n",
        "        return np.concatenate([x, np.log(x)]) \n",
        "    \n",
        "    def __getitem__(self, idx):\n",
        "        \n",
        "        # Еще нужно определить этот метод\n",
        "        # То есть как мы будем доставать наши данные по индексу\n",
        "        \n",
        "        x = self.data_x[idx]\n",
        "        \n",
        "        # внутри датасета мы можем делать все что угодно с нашими данными\n",
        "        # например выше определим функции, которые добавляют степенные фичи\n",
        "        x = self.add_pow_features(x, n=2)\n",
        "        x = self.add_pow_features(x, n=3)\n",
        "        # и еще возьмем логарифмические фичи\n",
        "        x = self.add_log_features(x)\n",
        "        \n",
        "        y = self.data_y[idx]\n",
        "        \n",
        "        return x, y"
      ],
      "execution_count": 37,
      "outputs": []
    },
    {
      "cell_type": "code",
      "metadata": {
        "id": "JXJWswlHW0__"
      },
      "source": [
        "toy_dataset = ToyDataset(some_data_x, some_data_y)"
      ],
      "execution_count": 38,
      "outputs": []
    },
    {
      "cell_type": "code",
      "metadata": {
        "id": "BnCFyAxvW1AB"
      },
      "source": [
        "toy_loader = DataLoader(dataset=toy_dataset, batch_size=128)"
      ],
      "execution_count": 39,
      "outputs": []
    },
    {
      "cell_type": "code",
      "metadata": {
        "id": "pHpe6pFvW1AC"
      },
      "source": [
        "for x, y in toy_loader:\n",
        "    break"
      ],
      "execution_count": 40,
      "outputs": []
    },
    {
      "cell_type": "code",
      "metadata": {
        "id": "AwGbp6mpW1AE",
        "outputId": "3ebdfa49-b10f-4eed-ecfc-2e275943d37f",
        "colab": {
          "base_uri": "https://localhost:8080/"
        }
      },
      "source": [
        "x.shape"
      ],
      "execution_count": 41,
      "outputs": [
        {
          "output_type": "execute_result",
          "data": {
            "text/plain": [
              "torch.Size([128, 32])"
            ]
          },
          "metadata": {
            "tags": []
          },
          "execution_count": 41
        }
      ]
    },
    {
      "cell_type": "code",
      "metadata": {
        "id": "osCgNV_QW1AG",
        "outputId": "b31d2422-6483-4a3f-9fe7-c44afaaa301a",
        "colab": {
          "base_uri": "https://localhost:8080/"
        }
      },
      "source": [
        "# заметим, что мы сразу получаем торчовый формат данных\n",
        "x"
      ],
      "execution_count": 42,
      "outputs": [
        {
          "output_type": "execute_result",
          "data": {
            "text/plain": [
              "tensor([[ 2.3871e-01,  1.6630e-01,  1.8084e-01,  ..., -1.0764e+01,\n",
              "         -1.0261e+01, -1.1040e+01],\n",
              "        [ 4.3308e-01,  9.6808e-01,  9.6252e-01,  ..., -1.9462e-01,\n",
              "         -2.2919e-01, -1.0798e+01],\n",
              "        [ 2.6481e-01,  3.6079e-01,  3.9246e-01,  ..., -6.1167e+00,\n",
              "         -5.6120e+00, -2.1437e+00],\n",
              "        ...,\n",
              "        [ 3.9143e-01,  3.8725e-01,  7.8818e-01,  ..., -5.6921e+00,\n",
              "         -1.4282e+00, -3.1355e+00],\n",
              "        [ 9.5590e-03,  2.5944e-01,  7.3786e-01,  ..., -8.0954e+00,\n",
              "         -1.8240e+00, -2.1064e+00],\n",
              "        [ 5.0233e-01,  6.7291e-01,  6.9418e-01,  ..., -2.3768e+00,\n",
              "         -2.1902e+00, -1.6130e+01]], dtype=torch.float64)"
            ]
          },
          "metadata": {
            "tags": []
          },
          "execution_count": 42
        }
      ]
    },
    {
      "cell_type": "code",
      "metadata": {
        "id": "me92biiCW1AI",
        "outputId": "13ef225f-3ea7-4267-f040-e4b9c509415f",
        "colab": {
          "base_uri": "https://localhost:8080/"
        }
      },
      "source": [
        "y"
      ],
      "execution_count": 43,
      "outputs": [
        {
          "output_type": "execute_result",
          "data": {
            "text/plain": [
              "tensor([0, 2, 0, 0, 2, 2, 0, 1, 2, 0, 1, 0, 0, 2, 2, 1, 0, 2, 1, 1, 2, 0, 1, 2,\n",
              "        1, 1, 0, 1, 0, 2, 0, 0, 2, 2, 2, 1, 1, 2, 0, 1, 0, 2, 1, 2, 1, 2, 0, 1,\n",
              "        1, 0, 2, 1, 0, 0, 1, 2, 0, 0, 1, 0, 2, 1, 1, 0, 1, 1, 1, 1, 0, 0, 2, 0,\n",
              "        1, 1, 2, 0, 2, 1, 2, 1, 1, 0, 0, 2, 0, 0, 2, 1, 2, 2, 0, 0, 1, 1, 1, 2,\n",
              "        2, 2, 2, 0, 1, 0, 1, 1, 0, 0, 2, 1, 1, 2, 1, 1, 0, 2, 2, 2, 0, 2, 0, 2,\n",
              "        1, 0, 2, 0, 1, 1, 0, 2])"
            ]
          },
          "metadata": {
            "tags": []
          },
          "execution_count": 43
        }
      ]
    },
    {
      "cell_type": "markdown",
      "metadata": {
        "id": "_GwetTl9W1AK"
      },
      "source": [
        "# Если вы ничего здесь не понимаете, то вернитесь в конец первой домашки, там все объясняется"
      ]
    },
    {
      "cell_type": "code",
      "metadata": {
        "id": "Gfo6os6eW1AK"
      },
      "source": [
        "model = torch.nn.Sequential(torch.nn.Linear(32, 16),\n",
        "                            torch.nn.ReLU(),\n",
        "                            torch.nn.Linear(16, 8),\n",
        "                            torch.nn.ReLU(),\n",
        "                            torch.nn.Linear(8, 3))\n",
        "\n",
        "criterion = torch.nn.CrossEntropyLoss()"
      ],
      "execution_count": 44,
      "outputs": []
    },
    {
      "cell_type": "code",
      "metadata": {
        "id": "92_ZspHsW1AN",
        "outputId": "5a94902f-f15f-4347-9361-089eb1e921cf",
        "colab": {
          "base_uri": "https://localhost:8080/"
        }
      },
      "source": [
        "with torch.no_grad():\n",
        "\n",
        "    prediction = model(x.float())\n",
        "\n",
        "    loss = criterion(prediction, y)\n",
        "    \n",
        "loss.item()"
      ],
      "execution_count": 45,
      "outputs": [
        {
          "output_type": "execute_result",
          "data": {
            "text/plain": [
              "1.1434361934661865"
            ]
          },
          "metadata": {
            "tags": []
          },
          "execution_count": 45
        }
      ]
    },
    {
      "cell_type": "markdown",
      "metadata": {
        "id": "K0HNpLpxW1AP"
      },
      "source": [
        "# Боевые датасеты"
      ]
    },
    {
      "cell_type": "code",
      "metadata": {
        "id": "4oFNf1UUW1AP"
      },
      "source": [
        "class CBOWDataset(Dataset):\n",
        "\n",
        "    def __init__(self,\n",
        "                 corpus,\n",
        "                 word2index,\n",
        "                 window=2,\n",
        "                 unk_token='UNK',\n",
        "                 pad_token='PAD',\n",
        "                 collect_verbose=True):\n",
        "\n",
        "        self.corpus = corpus\n",
        "        self.word2index = word2index\n",
        "        self.index2word = {value: key for key, value in self.word2index.items()}\n",
        "        self.window = window\n",
        "\n",
        "        self.unk_token = unk_token\n",
        "        self.unk_index = self.word2index[self.unk_token]\n",
        "\n",
        "        self.pad_token = pad_token\n",
        "        self.pad_index = len(self.word2index)\n",
        "\n",
        "        self.collect_verbose = collect_verbose\n",
        "\n",
        "        self.data = []\n",
        "\n",
        "        self.collect_data()\n",
        "\n",
        "    def __len__(self):\n",
        "\n",
        "        return len(self.data)\n",
        "\n",
        "    def _split_function(self, tokenized_text):\n",
        "\n",
        "        splits = []\n",
        "\n",
        "        for n in range(len(tokenized_text)):\n",
        "            left_context = tokenized_text[np.maximum(n - self.window, 0):n]\n",
        "            left_context = ([self.pad_index] * (self.window - len(left_context))) + left_context\n",
        "\n",
        "            central_word = tokenized_text[n]\n",
        "\n",
        "            right_context = tokenized_text[n + 1:n + self.window + 1]\n",
        "            right_context = right_context + ([self.pad_index] * (self.window - len(right_context)))\n",
        "\n",
        "            splits.append((left_context + right_context, central_word))\n",
        "\n",
        "        return splits\n",
        "\n",
        "    def indexing(self, tokenized_text):\n",
        "\n",
        "        return [self.word2index[token] if token in self.word2index else self.unk_index for token in tokenized_text]\n",
        "\n",
        "    def collect_data(self):\n",
        "\n",
        "        corpus = tqdm(self.corpus, disable=not self.collect_verbose)\n",
        "\n",
        "        for tokenized_text in corpus:\n",
        "            indexed_text = self.indexing(tokenized_text)\n",
        "            cbow_examples = self._split_function(indexed_text)\n",
        "\n",
        "            self.data.extend(cbow_examples)\n",
        "\n",
        "    def __getitem__(self, idx):\n",
        "\n",
        "        context, central_word = self.data[idx]\n",
        "\n",
        "        context = torch.Tensor(context).long()\n",
        "\n",
        "        return context, central_word"
      ],
      "execution_count": 46,
      "outputs": []
    },
    {
      "cell_type": "markdown",
      "metadata": {
        "id": "8PS3FuRcW1AR"
      },
      "source": [
        "# Мы будем учить модель Skipgram\n",
        "Реализуйте читалку данных"
      ]
    },
    {
      "cell_type": "code",
      "metadata": {
        "id": "vWksbkA9W1AR"
      },
      "source": [
        "class SkipgramDataset(Dataset):\n",
        "\n",
        "    def __init__(self,\n",
        "                 corpus,\n",
        "                 word2index,\n",
        "                 window=2,\n",
        "                 unk_token='UNK',\n",
        "                 collect_verbose=True):\n",
        "      self.corpus = corpus\n",
        "      self.word2index = word2index\n",
        "      self.index2word = {value: key for key, value in self.word2index.items()}\n",
        "      self.window = window\n",
        "\n",
        "      self.unk_token = unk_token\n",
        "      self.unk_index = self.word2index[self.unk_token]\n",
        "\n",
        "      self.collect_verbose = collect_verbose\n",
        "\n",
        "      self.data = []\n",
        "\n",
        "      self.collect_data()\n",
        "\n",
        "        \n",
        "\n",
        "    def __len__(self):\n",
        "\n",
        "        return len(self.data)\n",
        "\n",
        "    def _split_function(self, tokenized_text):\n",
        "      splits = []\n",
        "      for idx, token in enumerate(tokenized_text):\n",
        "        begin = idx - self.window  \n",
        "        end = idx + 1 + self.window \n",
        "\n",
        "        if end >= len(tokenized_text):\n",
        "          end = len(tokenized_text)\n",
        "        if begin <= 0:\n",
        "          begin = 0\n",
        "        \n",
        "        context = tokenized_text[begin:end]\n",
        "        for word in context:\n",
        "          if word != token:\n",
        "            skip = (word, token)\n",
        "            splits.append(skip)\n",
        "\n",
        "      return splits\n",
        "\n",
        "\n",
        "    def indexing(self, tokenized_text):\n",
        "\n",
        "        return [self.word2index[token] if token in self.word2index else self.unk_index for token in tokenized_text]\n",
        "\n",
        "    def collect_data(self):\n",
        "\n",
        "        corpus = tqdm(self.corpus, disable=not self.collect_verbose)\n",
        "\n",
        "        for tokenized_text in corpus:\n",
        "            indexed_text = self.indexing(tokenized_text)\n",
        "            skipgram_examples = self._split_function(indexed_text)\n",
        "\n",
        "            self.data.extend(skipgram_examples)\n",
        "\n",
        "    def __getitem__(self, idx):\n",
        "        \n",
        "        context, central_word = self.data[idx]\n",
        "        #context = torch.Tensor(context).long()\n",
        "\n",
        "        return context, central_word"
      ],
      "execution_count": 49,
      "outputs": []
    },
    {
      "cell_type": "code",
      "metadata": {
        "id": "9CG5x3IUW1AV"
      },
      "source": [
        "# можете положить SkipgramDataset в отдельный файлик, например word2vec_utils и относительным импортом достать его \n",
        "#from .word2vec_utils import SkipgramDataset"
      ],
      "execution_count": 47,
      "outputs": []
    },
    {
      "cell_type": "code",
      "metadata": {
        "scrolled": true,
        "id": "ZbPWsccFW1AY",
        "outputId": "7bef74eb-83df-4abc-dbf0-25423de8b2ca",
        "colab": {
          "base_uri": "https://localhost:8080/"
        }
      },
      "source": [
        "dataset = SkipgramDataset(corpus, word2index)"
      ],
      "execution_count": 50,
      "outputs": [
        {
          "output_type": "stream",
          "text": [
            "100%|██████████| 100000/100000 [00:01<00:00, 67920.49it/s]\n"
          ],
          "name": "stderr"
        }
      ]
    },
    {
      "cell_type": "code",
      "metadata": {
        "id": "a08_EtVEW1Aa"
      },
      "source": [
        "BATCH_SIZE = 512"
      ],
      "execution_count": 51,
      "outputs": []
    },
    {
      "cell_type": "code",
      "metadata": {
        "id": "cFxohsBgW1Ab"
      },
      "source": [
        "dataset_loader = DataLoader(dataset, shuffle=True, batch_size=BATCH_SIZE)"
      ],
      "execution_count": 52,
      "outputs": []
    },
    {
      "cell_type": "code",
      "metadata": {
        "id": "846UludbW1Ad"
      },
      "source": [
        "for x, y in dataset_loader:\n",
        "    break"
      ],
      "execution_count": 53,
      "outputs": []
    },
    {
      "cell_type": "code",
      "metadata": {
        "id": "SfRKckgYW1Ah",
        "outputId": "c0f9a532-8139-44bc-fccc-3e30446c7673",
        "colab": {
          "base_uri": "https://localhost:8080/"
        }
      },
      "source": [
        "x[:5]"
      ],
      "execution_count": 54,
      "outputs": [
        {
          "output_type": "execute_result",
          "data": {
            "text/plain": [
              "tensor([ 634, 1541, 4274, 8738,  285])"
            ]
          },
          "metadata": {
            "tags": []
          },
          "execution_count": 54
        }
      ]
    },
    {
      "cell_type": "code",
      "metadata": {
        "id": "6inWh8UvW1Ak",
        "outputId": "af732ba8-4f09-4692-aca0-fe6b65567bf3",
        "colab": {
          "base_uri": "https://localhost:8080/"
        }
      },
      "source": [
        "y[:5]"
      ],
      "execution_count": 55,
      "outputs": [
        {
          "output_type": "execute_result",
          "data": {
            "text/plain": [
              "tensor([ 771, 2175,   75,   10, 1113])"
            ]
          },
          "metadata": {
            "tags": []
          },
          "execution_count": 55
        }
      ]
    },
    {
      "cell_type": "code",
      "metadata": {
        "id": "kMkeC_jwW1Ao",
        "outputId": "8c22fb2c-0687-49af-a8f5-d46f443e9173",
        "colab": {
          "base_uri": "https://localhost:8080/"
        }
      },
      "source": [
        "x.shape, y.shape"
      ],
      "execution_count": 56,
      "outputs": [
        {
          "output_type": "execute_result",
          "data": {
            "text/plain": [
              "(torch.Size([512]), torch.Size([512]))"
            ]
          },
          "metadata": {
            "tags": []
          },
          "execution_count": 56
        }
      ]
    },
    {
      "cell_type": "code",
      "metadata": {
        "id": "qJC2-ZDtW1Aq"
      },
      "source": [
        "class CBOW(torch.nn.Module):\n",
        "    \n",
        "    def __init__(self, vocab_size, embedding_dim, pad_index):\n",
        "        \n",
        "        super().__init__()\n",
        "        \n",
        "        if pad_index > 0:\n",
        "            vocab_size += 1\n",
        "        \n",
        "        self.in_embedding = torch.nn.Embedding(num_embeddings=vocab_size, \n",
        "                                               embedding_dim=embedding_dim,\n",
        "                                               padding_idx=pad_index)\n",
        "        \n",
        "        self.out_embedding = torch.nn.Linear(in_features=embedding_dim,\n",
        "                                             out_features=vocab_size, bias=False)\n",
        "        \n",
        "    def forward(self, x):\n",
        "        \n",
        "        x = self.in_embedding(x).sum(dim=-2)\n",
        "        x = self.out_embedding(x)\n",
        "        \n",
        "        return x"
      ],
      "execution_count": 57,
      "outputs": []
    },
    {
      "cell_type": "markdown",
      "metadata": {
        "id": "_H6Ru692W1Ar"
      },
      "source": [
        "# Мы будем учить модель Skipgram\n",
        "Реализуйте ее"
      ]
    },
    {
      "cell_type": "code",
      "metadata": {
        "id": "rvszFrcFW1Ar"
      },
      "source": [
        "# CODE\n",
        "class SkipGram(torch.nn.Module):\n",
        "   def __init__(self, vocab_size, embedding_dim):\n",
        "        \n",
        "        super().__init__()\n",
        "    \n",
        "        \n",
        "        self.in_embedding = torch.nn.Embedding(num_embeddings=vocab_size, \n",
        "                                               embedding_dim=embedding_dim)\n",
        "        \n",
        "        self.out_embedding = torch.nn.Linear(in_features=embedding_dim,\n",
        "                                             out_features=vocab_size, bias=False)\n",
        "   \n",
        "   def forward(self, x):\n",
        "        \n",
        "        x = self.in_embedding(x)\n",
        "        x = self.out_embedding(x)\n",
        "        \n",
        "        return x"
      ],
      "execution_count": 58,
      "outputs": []
    },
    {
      "cell_type": "code",
      "metadata": {
        "id": "VLdvaEZlW1Av"
      },
      "source": [
        "#from word2vec_utils import SkipGram"
      ],
      "execution_count": null,
      "outputs": []
    },
    {
      "cell_type": "code",
      "metadata": {
        "id": "KcakNs9aW1Az"
      },
      "source": [
        "# размерность эмбеддинга\n",
        "# маленькая, чтобы мы могли недолго поучить ворд2век и увидеть результаты\n",
        "EMBEDDING_DIM = 20"
      ],
      "execution_count": 59,
      "outputs": []
    },
    {
      "cell_type": "code",
      "metadata": {
        "id": "hl4hUr39W1A3"
      },
      "source": [
        "model = SkipGram(vocab_size=len(word2index), embedding_dim=EMBEDDING_DIM)"
      ],
      "execution_count": 60,
      "outputs": []
    },
    {
      "cell_type": "code",
      "metadata": {
        "id": "PdHUKMSwW1A4",
        "outputId": "3558882e-5994-4bb7-dc8d-cd3442ba0ec9",
        "colab": {
          "base_uri": "https://localhost:8080/"
        }
      },
      "source": [
        "with torch.no_grad():\n",
        "    pred = model(x)\n",
        "\n",
        "pred.shape"
      ],
      "execution_count": 61,
      "outputs": [
        {
          "output_type": "execute_result",
          "data": {
            "text/plain": [
              "torch.Size([512, 13076])"
            ]
          },
          "metadata": {
            "tags": []
          },
          "execution_count": 61
        }
      ]
    },
    {
      "cell_type": "code",
      "metadata": {
        "id": "X2NiLsH6W1A6"
      },
      "source": [
        "optimizer = torch.optim.Adam(params=model.parameters(), lr=0.0001)\n",
        "\n",
        "# aka loss function\n",
        "criterion = torch.nn.CrossEntropyLoss()"
      ],
      "execution_count": 62,
      "outputs": []
    },
    {
      "cell_type": "markdown",
      "metadata": {
        "id": "HtwZGRRVW1A9"
      },
      "source": [
        "# Допишите обучалку"
      ]
    },
    {
      "cell_type": "code",
      "metadata": {
        "id": "Vnmg5UqXW1A9",
        "outputId": "0df0728e-7b7a-4194-91e8-68d6a3f51953",
        "colab": {
          "base_uri": "https://localhost:8080/"
        }
      },
      "source": [
        "epochs = 3\n",
        "\n",
        "losses = []\n",
        "\n",
        "\n",
        "\n",
        "\n",
        "for n_epoch in range(epochs):\n",
        "\n",
        "    try:\n",
        "\n",
        "        progress_bar = tqdm(total=len(dataset_loader.dataset), desc='Epoch {}'.format(n_epoch + 1))\n",
        "\n",
        "        for x, y in dataset_loader:\n",
        "            # optimizer.zero_grad()\n",
        "            \n",
        "            prediction = model(x)\n",
        "\n",
        "            loss = criterion(prediction, y)\n",
        "\n",
        "            loss.backward()\n",
        "            \n",
        "            optimizer.step() \n",
        "            \n",
        "            losses.append(loss.item())\n",
        "            \n",
        "            progress_bar.set_postfix(loss=np.mean(losses[-100:]))\n",
        "\n",
        "            progress_bar.update(x.shape[0])\n",
        "\n",
        "        progress_bar.close()\n",
        "\n",
        "    except KeyboardInterrupt:\n",
        "\n",
        "        progress_bar.close()\n",
        "        break"
      ],
      "execution_count": 63,
      "outputs": [
        {
          "output_type": "stream",
          "text": [
            "Epoch 1: 100%|██████████| 2967206/2967206 [07:35<00:00, 6519.39it/s, loss=7.4]\n",
            "Epoch 2: 100%|██████████| 2967206/2967206 [07:26<00:00, 6640.01it/s, loss=7.3]\n",
            "Epoch 3: 100%|██████████| 2967206/2967206 [07:30<00:00, 6581.74it/s, loss=7.15]\n"
          ],
          "name": "stderr"
        }
      ]
    },
    {
      "cell_type": "code",
      "metadata": {
        "id": "yCiwldxAW1BA",
        "outputId": "4f08f925-6d72-48ab-e5eb-cdf8ce0d77fb",
        "colab": {
          "base_uri": "https://localhost:8080/",
          "height": 702
        }
      },
      "source": [
        "plt.title('SkipGram Training Process')\n",
        "plt.xlabel('Itearations')\n",
        "plt.ylabel('Loss')\n",
        "plt.grid()\n",
        "plt.plot(losses)"
      ],
      "execution_count": 80,
      "outputs": [
        {
          "output_type": "execute_result",
          "data": {
            "text/plain": [
              "[<matplotlib.lines.Line2D at 0x7f9c6aaf46a0>]"
            ]
          },
          "metadata": {
            "tags": []
          },
          "execution_count": 80
        },
        {
          "output_type": "display_data",
          "data": {
            "image/png": "[encoded data removed]",
            "text/plain": [
              "<Figure size 1080x1080 with 1 Axes>"
            ]
          },
          "metadata": {
            "tags": [],
            "needs_background": "light"
          }
        }
      ]
    },
    {
      "cell_type": "code",
      "metadata": {
        "id": "uNosfIdVW1BB"
      },
      "source": [
        "# проверка, что хоть что-то выучилось\n",
        "assert np.mean(losses[-1000:]) < 7.5"
      ],
      "execution_count": 65,
      "outputs": []
    },
    {
      "cell_type": "code",
      "metadata": {
        "id": "B1RYa1LwW1BE"
      },
      "source": [
        "embedding_matrix = model.in_embedding.weight.detach()"
      ],
      "execution_count": 66,
      "outputs": []
    },
    {
      "cell_type": "code",
      "metadata": {
        "id": "EoR_L-ABW1BG"
      },
      "source": [
        "def cos_sim(embedding_matrix, token2id, word1, word2):\n",
        "    \n",
        "    i1 = token2id[word1]\n",
        "    i2 = token2id[word2]\n",
        "    \n",
        "    v1, v2 = embedding_matrix[i1], embedding_matrix[i2]\n",
        "    \n",
        "    v1_n = v1.div(v1.norm(keepdim=True))\n",
        "    v2_n = v2.div(v2.norm(keepdim=True))\n",
        "    \n",
        "    similarity = torch.dot(v1_n, v2_n).item()\n",
        "    \n",
        "    return similarity"
      ],
      "execution_count": 67,
      "outputs": []
    },
    {
      "cell_type": "markdown",
      "metadata": {
        "id": "_zcteV-tW1BI"
      },
      "source": [
        "# Косинусная близость\n",
        "От 0 до 1, где 0 - вектора абсолютно разные, где 1 - идентичные."
      ]
    },
    {
      "cell_type": "code",
      "metadata": {
        "id": "hwWkQDs3W1BJ",
        "outputId": "61de59c2-bdf4-4a0f-dbf7-d31cc7c37eb3",
        "colab": {
          "base_uri": "https://localhost:8080/"
        }
      },
      "source": [
        "cos_sim(embedding_matrix, word2index, 'день', 'месяц')"
      ],
      "execution_count": 68,
      "outputs": [
        {
          "output_type": "execute_result",
          "data": {
            "text/plain": [
              "0.5900339484214783"
            ]
          },
          "metadata": {
            "tags": []
          },
          "execution_count": 68
        }
      ]
    },
    {
      "cell_type": "code",
      "metadata": {
        "id": "TnWlR-uQW1BK",
        "outputId": "f58858f7-3abb-4dbb-b64c-f5dc2b468739",
        "colab": {
          "base_uri": "https://localhost:8080/"
        }
      },
      "source": [
        "cos_sim(embedding_matrix, word2index, 'минута', 'месяц')"
      ],
      "execution_count": 69,
      "outputs": [
        {
          "output_type": "execute_result",
          "data": {
            "text/plain": [
              "0.7745673656463623"
            ]
          },
          "metadata": {
            "tags": []
          },
          "execution_count": 69
        }
      ]
    },
    {
      "cell_type": "code",
      "metadata": {
        "id": "FUalLZZaW1BM",
        "outputId": "f231d71d-3d43-4f6c-f50b-8232d407101f",
        "colab": {
          "base_uri": "https://localhost:8080/"
        }
      },
      "source": [
        "cos_sim(embedding_matrix, word2index, 'сотрудник', 'сотрудница')"
      ],
      "execution_count": 70,
      "outputs": [
        {
          "output_type": "execute_result",
          "data": {
            "text/plain": [
              "0.7490051984786987"
            ]
          },
          "metadata": {
            "tags": []
          },
          "execution_count": 70
        }
      ]
    },
    {
      "cell_type": "code",
      "metadata": {
        "id": "achHl4DAW1BN",
        "outputId": "7b96f821-ad5a-4f64-f91a-51008b338091",
        "colab": {
          "base_uri": "https://localhost:8080/"
        }
      },
      "source": [
        "cos_sim(embedding_matrix, word2index, 'вклад', 'перевод')"
      ],
      "execution_count": 71,
      "outputs": [
        {
          "output_type": "execute_result",
          "data": {
            "text/plain": [
              "0.36298704147338867"
            ]
          },
          "metadata": {
            "tags": []
          },
          "execution_count": 71
        }
      ]
    },
    {
      "cell_type": "code",
      "metadata": {
        "id": "u0zes_QoW1BQ",
        "outputId": "83d1fd90-e7a6-484f-e81a-5a4b6323c16b",
        "colab": {
          "base_uri": "https://localhost:8080/",
          "height": 52
        }
      },
      "source": [
        "random_word = random.choice(list(word2index.keys()))\n",
        "sim = cos_sim(embedding_matrix, word2index, 'день', random_word)\n",
        "'Косинусная близость слова \"день\" к случайному выбраному слову \"{}\" равна {:.3f}'.format(random_word, sim)"
      ],
      "execution_count": 72,
      "outputs": [
        {
          "output_type": "execute_result",
          "data": {
            "application/vnd.google.colaboratory.intrinsic+json": {
              "type": "string"
            },
            "text/plain": [
              "'Косинусная близость слова \"день\" к случайному выбраному слову \"переполнять\" равна 0.062'"
            ]
          },
          "metadata": {
            "tags": []
          },
          "execution_count": 72
        }
      ]
    },
    {
      "cell_type": "code",
      "metadata": {
        "id": "2Kdzl4fAW1BU"
      },
      "source": [
        "freq = {}\n",
        "\n",
        "for text in corpus:\n",
        "    for token in text:\n",
        "        if token in freq:\n",
        "            freq[token] += 1\n",
        "        else:\n",
        "            freq[token] = 1"
      ],
      "execution_count": 73,
      "outputs": []
    },
    {
      "cell_type": "code",
      "metadata": {
        "id": "cHWDg1REW1BV"
      },
      "source": [
        "sorted_freq = [(k, freq[k]) for k in sorted(freq, key=freq.get, reverse=True)]\n",
        "top_sorted_freq = sorted_freq[0:200]"
      ],
      "execution_count": 74,
      "outputs": []
    },
    {
      "cell_type": "code",
      "metadata": {
        "id": "Z69jAD0bW1BX",
        "outputId": "338b9943-36f0-430c-e0dd-9e147b5e3218",
        "colab": {
          "base_uri": "https://localhost:8080/"
        }
      },
      "source": [
        "tsne = TSNE(n_components=2, init='pca', random_state=42, verbose=2)\n",
        "reduced = tsne.fit_transform(embedding_matrix)"
      ],
      "execution_count": 75,
      "outputs": [
        {
          "output_type": "stream",
          "text": [
            "[t-SNE] Computing 91 nearest neighbors...\n",
            "[t-SNE] Indexed 13076 samples in 0.039s...\n",
            "[t-SNE] Computed neighbors for 13076 samples in 9.077s...\n",
            "[t-SNE] Computed conditional probabilities for sample 1000 / 13076\n",
            "[t-SNE] Computed conditional probabilities for sample 2000 / 13076\n",
            "[t-SNE] Computed conditional probabilities for sample 3000 / 13076\n",
            "[t-SNE] Computed conditional probabilities for sample 4000 / 13076\n",
            "[t-SNE] Computed conditional probabilities for sample 5000 / 13076\n",
            "[t-SNE] Computed conditional probabilities for sample 6000 / 13076\n",
            "[t-SNE] Computed conditional probabilities for sample 7000 / 13076\n",
            "[t-SNE] Computed conditional probabilities for sample 8000 / 13076\n",
            "[t-SNE] Computed conditional probabilities for sample 9000 / 13076\n",
            "[t-SNE] Computed conditional probabilities for sample 10000 / 13076\n",
            "[t-SNE] Computed conditional probabilities for sample 11000 / 13076\n",
            "[t-SNE] Computed conditional probabilities for sample 12000 / 13076\n",
            "[t-SNE] Computed conditional probabilities for sample 13000 / 13076\n",
            "[t-SNE] Computed conditional probabilities for sample 13076 / 13076\n",
            "[t-SNE] Mean sigma: 1.019439\n",
            "[t-SNE] Computed conditional probabilities in 0.669s\n",
            "[t-SNE] Iteration 50: error = 97.1798401, gradient norm = 0.0001977 (50 iterations in 12.954s)\n",
            "[t-SNE] Iteration 100: error = 97.2032623, gradient norm = 0.0000054 (50 iterations in 5.192s)\n",
            "[t-SNE] Iteration 150: error = 97.2033310, gradient norm = 0.0000056 (50 iterations in 4.871s)\n",
            "[t-SNE] Iteration 200: error = 97.2033386, gradient norm = 0.0000051 (50 iterations in 4.815s)\n",
            "[t-SNE] Iteration 250: error = 97.2033310, gradient norm = 0.0000052 (50 iterations in 4.851s)\n",
            "[t-SNE] KL divergence after 250 iterations with early exaggeration: 97.203331\n",
            "[t-SNE] Iteration 300: error = 4.7821531, gradient norm = 0.0011288 (50 iterations in 6.308s)\n",
            "[t-SNE] Iteration 350: error = 4.2219019, gradient norm = 0.0005392 (50 iterations in 7.977s)\n",
            "[t-SNE] Iteration 400: error = 4.1035705, gradient norm = 0.0002997 (50 iterations in 6.622s)\n",
            "[t-SNE] Iteration 450: error = 4.0263901, gradient norm = 0.0002079 (50 iterations in 6.400s)\n",
            "[t-SNE] Iteration 500: error = 3.9707925, gradient norm = 0.0001556 (50 iterations in 6.350s)\n",
            "[t-SNE] Iteration 550: error = 3.9277656, gradient norm = 0.0001255 (50 iterations in 6.315s)\n",
            "[t-SNE] Iteration 600: error = 3.8930621, gradient norm = 0.0001019 (50 iterations in 6.274s)\n",
            "[t-SNE] Iteration 650: error = 3.8647370, gradient norm = 0.0000848 (50 iterations in 6.226s)\n",
            "[t-SNE] Iteration 700: error = 3.8408794, gradient norm = 0.0000728 (50 iterations in 6.210s)\n",
            "[t-SNE] Iteration 750: error = 3.8206255, gradient norm = 0.0000642 (50 iterations in 6.246s)\n",
            "[t-SNE] Iteration 800: error = 3.8034267, gradient norm = 0.0000603 (50 iterations in 6.242s)\n",
            "[t-SNE] Iteration 850: error = 3.7889199, gradient norm = 0.0000530 (50 iterations in 6.280s)\n",
            "[t-SNE] Iteration 900: error = 3.7764091, gradient norm = 0.0000472 (50 iterations in 6.208s)\n",
            "[t-SNE] Iteration 950: error = 3.7653117, gradient norm = 0.0000441 (50 iterations in 6.215s)\n",
            "[t-SNE] Iteration 1000: error = 3.7556667, gradient norm = 0.0000405 (50 iterations in 6.196s)\n",
            "[t-SNE] KL divergence after 1000 iterations: 3.755667\n"
          ],
          "name": "stdout"
        }
      ]
    },
    {
      "cell_type": "code",
      "metadata": {
        "id": "FfiLjAp8W1BZ"
      },
      "source": [
        "top_words = [a for a,_ in top_sorted_freq]"
      ],
      "execution_count": 76,
      "outputs": []
    },
    {
      "cell_type": "code",
      "metadata": {
        "id": "UkEMN7BeW1Ba"
      },
      "source": [
        "inds = [word2index[word] for word in top_words]\n",
        "x_coords = [coords[0] for coords in reduced[inds]]\n",
        "y_coords = [coords[1] for coords in reduced[inds]]"
      ],
      "execution_count": 77,
      "outputs": []
    },
    {
      "cell_type": "code",
      "metadata": {
        "id": "qpOiHkZWW1Bb",
        "outputId": "790984d5-db63-49da-c62f-0cab48b4d670",
        "colab": {
          "base_uri": "https://localhost:8080/",
          "height": 669
        }
      },
      "source": [
        "for (x, y, word) in zip(x_coords, y_coords, top_words):\n",
        "    plt.scatter(x, y, marker='.', color='blue')\n",
        "    plt.text(x+0.01, y+0.01, word, fontsize=9)\n",
        "plt.show()"
      ],
      "execution_count": 81,
      "outputs": [
        {
          "output_type": "display_data",
          "data": {
            "image/png": "[encoded data removed]",
            "text/plain": [
              "<Figure size 1080x1080 with 1 Axes>"
            ]
          },
          "metadata": {
            "tags": [],
            "needs_background": "light"
          }
        }
      ]
    }
  ]
}